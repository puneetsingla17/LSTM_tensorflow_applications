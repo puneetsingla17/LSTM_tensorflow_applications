{
  "cells": [
    {
      "metadata": {
        "_uuid": "8f2839f25d086af736a60e9eeb907d3b93b6e0e5",
        "_cell_guid": "b1076dfc-b9ad-4769-8c92-a6c4dae69d19",
        "trusted": true
      },
      "cell_type": "code",
      "source": "# This Python 3 environment comes with many helpful analytics libraries installed\n# It is defined by the kaggle/python docker image: https://github.com/kaggle/docker-python\n# For example, here's several helpful packages to load in \n\nimport numpy as np # linear algebra\nimport pandas as pd # data processing, CSV file I/O (e.g. pd.read_csv)\nimport tensorflow as tf\nfrom keras.datasets import mnist\n\n# Input data files are available in the \"../input/\" directory.\n# For example, running this (by clicking run or pressing Shift+Enter) will list the files in the input directory\nfrom keras.utils import np_utils\nimport os\nprint(os.listdir(\"../input\"))\n\n# Any results you write to the current directory are saved as output.",
      "execution_count": 5,
      "outputs": [
        {
          "output_type": "stream",
          "text": "[]\n",
          "name": "stdout"
        },
        {
          "output_type": "stream",
          "text": "Using TensorFlow backend.\n",
          "name": "stderr"
        }
      ]
    },
    {
      "metadata": {
        "_cell_guid": "79c7e3d0-c299-4dcb-8224-4455121ee9b0",
        "_uuid": "d629ff2d2480ee46fbb7e2d37f6b5fab8052498a",
        "trusted": true
      },
      "cell_type": "code",
      "source": "(xtrain,ytrain),(xvalid,yvalid)=mnist.load_data()\nxtrain1=xtrain.astype('float32')/255\nxvalid1=xvalid.astype('float32')/255",
      "execution_count": 6,
      "outputs": [
        {
          "output_type": "stream",
          "text": "Downloading data from https://s3.amazonaws.com/img-datasets/mnist.npz\n11493376/11490434 [==============================] - 2s 0us/step\n",
          "name": "stdout"
        }
      ]
    },
    {
      "metadata": {
        "trusted": true,
        "_uuid": "22464fef1595f8cc9bf8390fa34e7a97c2270a65"
      },
      "cell_type": "code",
      "source": "ytrain1=np_utils.to_categorical(ytrain,10)\nyvalid1=np_utils.to_categorical(yvalid,10)",
      "execution_count": 7,
      "outputs": []
    },
    {
      "metadata": {
        "trusted": true,
        "_uuid": "ac302786755cddfb221df263e10ba0a495062f10"
      },
      "cell_type": "code",
      "source": "xtrain1.shape",
      "execution_count": 8,
      "outputs": [
        {
          "output_type": "execute_result",
          "execution_count": 8,
          "data": {
            "text/plain": "(60000, 28, 28)"
          },
          "metadata": {}
        }
      ]
    },
    {
      "metadata": {
        "trusted": true,
        "_uuid": "e429c328b9b67794da85d7eeea21198fe6d52e7d"
      },
      "cell_type": "code",
      "source": "\nlr=0.001\ntrainingsteps=10000\nbatch_size=128\nn_lstm=256\ndisp_step=200\nn_inputs=28\nn_steps=28\nn_classes=10\nX=tf.placeholder('float32',[None,n_steps,n_inputs])\nY=tf.placeholder('float32',[None,n_classes])",
      "execution_count": 9,
      "outputs": []
    },
    {
      "metadata": {
        "trusted": true,
        "_uuid": "65241a29890bf4b1a79bd84cb78bd8ff413f0aec"
      },
      "cell_type": "code",
      "source": "W=tf.Variable(tf.random.truncated_normal(shape=[n_lstm,n_classes]))\nb=tf.Variable(tf.random.truncated_normal([n_classes,]))\n",
      "execution_count": 10,
      "outputs": []
    },
    {
      "metadata": {
        "trusted": true,
        "_uuid": "e75b81c09ebd5da3885379c2920c2f18ddd6fe7a"
      },
      "cell_type": "code",
      "source": "x=tf.unstack(X,axis=1)  # creates list of section of batches at different timestamps\nLSTM_cell=tf.nn.rnn_cell.BasicLSTMCell(num_units=n_lstm,forget_bias=1.0)\noutputs,states=tf.contrib.rnn.static_rnn(LSTM_cell,x,dtype=tf.float32)\n",
      "execution_count": 11,
      "outputs": [
        {
          "output_type": "stream",
          "text": "WARNING:tensorflow:From <ipython-input-11-3ac1fe936742>:2: BasicLSTMCell.__init__ (from tensorflow.python.ops.rnn_cell_impl) is deprecated and will be removed in a future version.\nInstructions for updating:\nThis class is deprecated, please use tf.nn.rnn_cell.LSTMCell, which supports all the feature this cell currently has. Please replace the existing code with tf.nn.rnn_cell.LSTMCell(name='basic_lstm_cell').\n",
          "name": "stdout"
        }
      ]
    },
    {
      "metadata": {
        "trusted": true,
        "_uuid": "065961e0919746fa6bf9d6af7391790d9861504f"
      },
      "cell_type": "code",
      "source": "print(len(x))\nx[0].get_shape()",
      "execution_count": 12,
      "outputs": [
        {
          "output_type": "stream",
          "text": "28\n",
          "name": "stdout"
        },
        {
          "output_type": "execute_result",
          "execution_count": 12,
          "data": {
            "text/plain": "TensorShape([Dimension(None), Dimension(28)])"
          },
          "metadata": {}
        }
      ]
    },
    {
      "metadata": {
        "trusted": true,
        "_uuid": "dc32593c85b7b8df5db56cc7b05988bef661b3af"
      },
      "cell_type": "code",
      "source": "len(outputs)\noutputs[-1].get_shape() # gives the last hidden state of last time stamp across each example of batch",
      "execution_count": 13,
      "outputs": [
        {
          "output_type": "execute_result",
          "execution_count": 13,
          "data": {
            "text/plain": "TensorShape([Dimension(None), Dimension(256)])"
          },
          "metadata": {}
        }
      ]
    },
    {
      "metadata": {
        "trusted": true,
        "_uuid": "7c02d56c9a1df490070d3592d88e717f8a1e3010"
      },
      "cell_type": "code",
      "source": "y=tf.matmul(outputs[-1],W)+b\ny.get_shape()",
      "execution_count": 14,
      "outputs": [
        {
          "output_type": "execute_result",
          "execution_count": 14,
          "data": {
            "text/plain": "TensorShape([Dimension(None), Dimension(10)])"
          },
          "metadata": {}
        }
      ]
    },
    {
      "metadata": {
        "trusted": true,
        "_uuid": "33c81b434beb215dd0dd52d5ff47ec7263fb6192"
      },
      "cell_type": "code",
      "source": "prediction=tf.nn.softmax(y,axis=1)",
      "execution_count": 15,
      "outputs": []
    },
    {
      "metadata": {
        "trusted": true,
        "_uuid": "357f786cb167ff38424a37b58274b944d394c66b"
      },
      "cell_type": "code",
      "source": "loss=tf.reduce_mean(tf.nn.softmax_cross_entropy_with_logits_v2(logits=y,labels=Y))",
      "execution_count": 16,
      "outputs": []
    },
    {
      "metadata": {
        "trusted": true,
        "_uuid": "b9b69cbcf3312c2b1bbb2a71ca47731f43ad6427"
      },
      "cell_type": "code",
      "source": "optimizer=tf.train.GradientDescentOptimizer(learning_rate=lr)\ntrain_op=optimizer.minimize(loss)",
      "execution_count": 17,
      "outputs": []
    },
    {
      "metadata": {
        "trusted": true,
        "_uuid": "221f7e4ef1b828601d90ce7e3f7a8763524911dc"
      },
      "cell_type": "code",
      "source": "#Evaluation \ncorrect_pred=tf.equal(tf.argmax(y,axis=1),tf.argmax(Y,axis=1))\naccuracy=tf.reduce_mean(tf.cast(correct_pred,tf.float32))\ninit=tf.global_variables_initializer()",
      "execution_count": 18,
      "outputs": []
    },
    {
      "metadata": {
        "trusted": true,
        "_uuid": "d4e5a4e1e052557e3dd9c311f1be20adc576b729",
        "scrolled": false
      },
      "cell_type": "code",
      "source": "trainloss=[]\ntestloss=[]\nwith tf.Session() as s:\n    s.run(init)\n    for i in range(trainingsteps):\n        rand=np.random.choice(len(xtrain1),batch_size)\n        batch_x=xtrain1[rand]\n        batch_y=ytrain1[rand]\n       # print(type(batch_x),type(batch_y))\n        _=s.run(train_op,feed_dict={X:batch_x,Y:batch_y})\n        if ((i+1)% disp_step)==0:\n            loss1,acc1=s.run([loss,accuracy],feed_dict={X:batch_x,Y:batch_y})\n            print(\"at step:\",i+1,\" training loss:\",loss1 ,\"and training accuracy:\",acc1)\n            #print(type(loss1))\n            #print(type(acc1))\n            trainloss.append(loss1)\n            testl,testa=s.run([loss,accuracy],feed_dict={X:xvalid1,Y:yvalid1})\n            testloss.append(testl)\n            print(\"test accuracy:\",testa)",
      "execution_count": 19,
      "outputs": [
        {
          "output_type": "stream",
          "text": "at step: 200  training loss: 2.0922184 and training accuracy: 0.2734375\ntest accuracy: 0.3457\nat step: 400  training loss: 1.8351346 and training accuracy: 0.4453125\ntest accuracy: 0.429\nat step: 600  training loss: 1.6636502 and training accuracy: 0.484375\ntest accuracy: 0.4867\nat step: 800  training loss: 1.604189 and training accuracy: 0.46875\ntest accuracy: 0.5251\nat step: 1000  training loss: 1.5045655 and training accuracy: 0.546875\ntest accuracy: 0.5578\nat step: 1200  training loss: 1.4015945 and training accuracy: 0.5625\ntest accuracy: 0.5971\nat step: 1400  training loss: 1.2903507 and training accuracy: 0.6015625\ntest accuracy: 0.6251\nat step: 1600  training loss: 1.356894 and training accuracy: 0.546875\ntest accuracy: 0.6475\nat step: 1800  training loss: 1.2112839 and training accuracy: 0.640625\ntest accuracy: 0.6607\nat step: 2000  training loss: 1.0935866 and training accuracy: 0.6875\ntest accuracy: 0.6742\nat step: 2200  training loss: 1.1433812 and training accuracy: 0.671875\ntest accuracy: 0.6844\nat step: 2400  training loss: 0.9253874 and training accuracy: 0.7265625\ntest accuracy: 0.6974\nat step: 2600  training loss: 1.0043828 and training accuracy: 0.6875\ntest accuracy: 0.7061\nat step: 2800  training loss: 0.97351944 and training accuracy: 0.671875\ntest accuracy: 0.7125\nat step: 3000  training loss: 0.77870226 and training accuracy: 0.7578125\ntest accuracy: 0.7197\nat step: 3200  training loss: 0.966327 and training accuracy: 0.7109375\ntest accuracy: 0.7318\nat step: 3400  training loss: 0.86432457 and training accuracy: 0.6640625\ntest accuracy: 0.7378\nat step: 3600  training loss: 0.8010728 and training accuracy: 0.7734375\ntest accuracy: 0.7457\nat step: 3800  training loss: 0.75685203 and training accuracy: 0.7421875\ntest accuracy: 0.7523\nat step: 4000  training loss: 0.8017431 and training accuracy: 0.7890625\ntest accuracy: 0.7607\nat step: 4200  training loss: 0.79805887 and training accuracy: 0.75\ntest accuracy: 0.7631\nat step: 4400  training loss: 0.66854966 and training accuracy: 0.796875\ntest accuracy: 0.7693\nat step: 4600  training loss: 0.62287915 and training accuracy: 0.8125\ntest accuracy: 0.7722\nat step: 4800  training loss: 0.57285005 and training accuracy: 0.828125\ntest accuracy: 0.78\nat step: 5000  training loss: 0.6630989 and training accuracy: 0.7421875\ntest accuracy: 0.7854\nat step: 5200  training loss: 0.624879 and training accuracy: 0.828125\ntest accuracy: 0.788\nat step: 5400  training loss: 0.821189 and training accuracy: 0.734375\ntest accuracy: 0.792\nat step: 5600  training loss: 0.62440526 and training accuracy: 0.7578125\ntest accuracy: 0.796\nat step: 5800  training loss: 0.64246583 and training accuracy: 0.8203125\ntest accuracy: 0.8009\nat step: 6000  training loss: 0.6029722 and training accuracy: 0.796875\ntest accuracy: 0.803\nat step: 6200  training loss: 0.62944 and training accuracy: 0.8125\ntest accuracy: 0.8079\nat step: 6400  training loss: 0.6159425 and training accuracy: 0.7890625\ntest accuracy: 0.8121\nat step: 6600  training loss: 0.61953247 and training accuracy: 0.8046875\ntest accuracy: 0.8162\nat step: 6800  training loss: 0.44420755 and training accuracy: 0.84375\ntest accuracy: 0.8183\nat step: 7000  training loss: 0.48006457 and training accuracy: 0.828125\ntest accuracy: 0.824\nat step: 7200  training loss: 0.3328281 and training accuracy: 0.8984375\ntest accuracy: 0.8257\nat step: 7400  training loss: 0.44641516 and training accuracy: 0.8671875\ntest accuracy: 0.8296\nat step: 7600  training loss: 0.4808878 and training accuracy: 0.8359375\ntest accuracy: 0.8335\nat step: 7800  training loss: 0.46012038 and training accuracy: 0.84375\ntest accuracy: 0.8357\nat step: 8000  training loss: 0.51910365 and training accuracy: 0.8125\ntest accuracy: 0.8391\nat step: 8200  training loss: 0.46133772 and training accuracy: 0.8359375\ntest accuracy: 0.8423\nat step: 8400  training loss: 0.47539428 and training accuracy: 0.828125\ntest accuracy: 0.8466\nat step: 8600  training loss: 0.5110384 and training accuracy: 0.859375\ntest accuracy: 0.8485\nat step: 8800  training loss: 0.40540338 and training accuracy: 0.859375\ntest accuracy: 0.8517\nat step: 9000  training loss: 0.46221626 and training accuracy: 0.8828125\ntest accuracy: 0.8555\nat step: 9200  training loss: 0.47987905 and training accuracy: 0.875\ntest accuracy: 0.8573\nat step: 9400  training loss: 0.5024126 and training accuracy: 0.828125\ntest accuracy: 0.8596\nat step: 9600  training loss: 0.5743571 and training accuracy: 0.78125\ntest accuracy: 0.8631\nat step: 9800  training loss: 0.59089184 and training accuracy: 0.8671875\ntest accuracy: 0.8645\nat step: 10000  training loss: 0.46216267 and training accuracy: 0.8671875\ntest accuracy: 0.867\n",
          "name": "stdout"
        }
      ]
    },
    {
      "metadata": {
        "trusted": true,
        "_uuid": "bbabf3394dc40c98d7a909807cd78b31691c049b"
      },
      "cell_type": "code",
      "source": "\nimport matplotlib.pyplot as plt",
      "execution_count": 21,
      "outputs": []
    },
    {
      "metadata": {
        "trusted": true,
        "_uuid": "a240cf9d17f59c15e9cf9c62378cdcc017134991"
      },
      "cell_type": "code",
      "source": "plt.plot(trainloss,'r',label='trainloss')\nplt.plot(testloss,'b',label='testloss')\nplt.legend()",
      "execution_count": 22,
      "outputs": [
        {
          "output_type": "execute_result",
          "execution_count": 22,
          "data": {
            "text/plain": "<matplotlib.legend.Legend at 0x7f879411a208>"
          },
          "metadata": {}
        },
        {
          "output_type": "display_data",
          "data": {
            "text/plain": "<Figure size 432x288 with 1 Axes>",
            "image/png": "[encoded data removed]"
          },
          "metadata": {}
        }
      ]
    },
    {
      "metadata": {
        "trusted": true,
        "_uuid": "859fb74cc73f3d5e07cd556c245bf8f093c0d597"
      },
      "cell_type": "code",
      "source": "",
      "execution_count": null,
      "outputs": []
    }
  ],
  "metadata": {
    "kernelspec": {
      "display_name": "Python 3",
      "language": "python",
      "name": "python3"
    },
    "language_info": {
      "name": "python",
      "version": "3.6.6",
      "mimetype": "text/x-python",
      "codemirror_mode": {
        "name": "ipython",
        "version": 3
      },
      "pygments_lexer": "ipython3",
      "nbconvert_exporter": "python",
      "file_extension": ".py"
    }
  },
  "nbformat": 4,
  "nbformat_minor": 1
}